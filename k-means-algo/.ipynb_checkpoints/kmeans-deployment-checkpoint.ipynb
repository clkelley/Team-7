{
 "cells": [
  {
   "cell_type": "code",
   "execution_count": 337,
   "metadata": {},
   "outputs": [],
   "source": [
    "from copy import deepcopy\n",
    "import numpy as np\n",
    "import pandas as pd\n",
    "import hashlib\n",
    "import random\n",
    "import csv\n",
    "from matplotlib import pyplot as plt\n",
    "\n",
    "\n",
    "# Importing the dataset\n",
    "\n",
    "\n",
    "\n",
    "with open('Onboarding Questionnaire.csv') as inputfile:\n",
    "    reader = csv.reader(inputfile)\n",
    "    inputm = list(reader)\n",
    "        \n",
    "        \n",
    "\n",
    "faraz = inputm[1][2:]\n",
    "\n",
    "\n",
    "\n",
    "\n",
    "#set genders\n",
    "semir[0] = 1\n",
    "rena[0] = 0\n",
    "clara[0] = 0\n",
    "talal[0] = 1\n",
    "\n",
    "#set ages\n",
    "semir[1] = 0\n",
    "rena[1] = 0\n",
    "clara[1] = 0\n",
    "talal[1] = 0\n",
    "\n",
    "semir = [str(random.randint(1,5)) for i in range(30)]\n",
    "rena =  [str(random.randint(1,5)) for i in range(30)]\n",
    "clara =  [str(random.randint(1,5)) for i in range(30)]\n",
    "talal =  [str(random.randint(1,5)) for i in range(30)]\n",
    "\n",
    "data_ = np.stack((faraz, semir,rena, clara,talal))"
   ]
  },
  {
   "cell_type": "code",
   "execution_count": 352,
   "metadata": {},
   "outputs": [
    {
     "name": "stdout",
     "output_type": "stream",
     "text": [
      "[1.  1.  1.  0.5 0.5 0.5 0.5 1.  1.  0.5 0.5 1.  0.5 1.  1.  1.  1.  0.5\n",
      " 1.  1.  1.  1.  1.  1.  1.  1.  1.  0.5 0.5 0.5 0.5]\n"
     ]
    }
   ],
   "source": [
    "from sklearn.cluster import KMeans\n",
    "\n",
    "\n",
    "clusters = 5 #number of us in our group\n",
    "\n",
    "\n",
    "weight =[1,1,1,.5,.5,.5,.5,1,1,.5,.5,1,.5,1,1,1,1,.5,1,1,1,1,1,1,1,1,1,.5,.5,.5,.5]\n",
    "print(np.asarray(weight))\n",
    "weight = np.asarray([weight])\n",
    "\n",
    "kmeans = KMeans(clusters) \n",
    "kmeans.fit(data_, weight) \n",
    "\n",
    "\n",
    "faraz_index = kmeans.labels_[0]\n",
    "semir_index = kmeans.labels_[1]\n",
    "rena_index = kmeans.labels_[2]\n",
    "clara_index = kmeans.labels_[3]\n",
    "talal_index = kmeans.labels_[4]\n"
   ]
  },
  {
   "cell_type": "code",
   "execution_count": 362,
   "metadata": {},
   "outputs": [
    {
     "name": "stdout",
     "output_type": "stream",
     "text": [
      "[[1.  1.  1.  0.5 0.5 0.5 0.5 1.  1.  0.5 0.5 1.  0.5 1.  1.  1.  1.  0.5\n",
      "  1.  1.  1.  1.  1.  1.  1.  1.  1.  0.5 0.5 0.5 0.5]]\n",
      "Prediction is: \n",
      "Semir\n",
      "\n",
      "Distance to Faraz: \n",
      "12.36931687685298\n",
      "\n",
      "Distance to Rena: \n",
      "11.704699910719626\n",
      "\n",
      "Distance to Talal: \n",
      "10.908712114635714\n",
      "\n",
      "Distance to Semir: \n",
      "10.862780491200215\n",
      "\n",
      "Distance to Clara: \n",
      "11.832159566199232\n",
      "\n"
     ]
    },
    {
     "ename": "NameError",
     "evalue": "name 'wt_kmeansclus' is not defined",
     "output_type": "error",
     "traceback": [
      "\u001b[0;31m---------------------------------------------------------------------------\u001b[0m",
      "\u001b[0;31mNameError\u001b[0m                                 Traceback (most recent call last)",
      "\u001b[0;32m<ipython-input-362-f77ebeabf12f>\u001b[0m in \u001b[0;36m<module>\u001b[0;34m\u001b[0m\n\u001b[1;32m     64\u001b[0m \u001b[0mplt\u001b[0m\u001b[0;34m.\u001b[0m\u001b[0mstyle\u001b[0m\u001b[0;34m.\u001b[0m\u001b[0muse\u001b[0m\u001b[0;34m(\u001b[0m\u001b[0;34m'default'\u001b[0m\u001b[0;34m)\u001b[0m\u001b[0;34m\u001b[0m\u001b[0;34m\u001b[0m\u001b[0m\n\u001b[1;32m     65\u001b[0m \u001b[0mplt\u001b[0m\u001b[0;34m.\u001b[0m\u001b[0mfigure\u001b[0m\u001b[0;34m(\u001b[0m\u001b[0mfigsize\u001b[0m\u001b[0;34m=\u001b[0m\u001b[0;34m(\u001b[0m\u001b[0;36m15\u001b[0m\u001b[0;34m,\u001b[0m \u001b[0;36m10\u001b[0m\u001b[0;34m)\u001b[0m\u001b[0;34m)\u001b[0m\u001b[0;34m\u001b[0m\u001b[0;34m\u001b[0m\u001b[0m\n\u001b[0;32m---> 66\u001b[0;31m \u001b[0mplt\u001b[0m\u001b[0;34m.\u001b[0m\u001b[0mscatter\u001b[0m\u001b[0;34m(\u001b[0m\u001b[0mdata_\u001b[0m\u001b[0;34m[\u001b[0m\u001b[0;34m:\u001b[0m\u001b[0;34m,\u001b[0m\u001b[0;36m0\u001b[0m\u001b[0;34m]\u001b[0m\u001b[0;34m,\u001b[0m \u001b[0mdata_\u001b[0m\u001b[0;34m[\u001b[0m\u001b[0;34m:\u001b[0m\u001b[0;34m,\u001b[0m\u001b[0;36m1\u001b[0m\u001b[0;34m]\u001b[0m\u001b[0;34m,\u001b[0m \u001b[0mc\u001b[0m\u001b[0;34m=\u001b[0m\u001b[0mwt_kmeansclus\u001b[0m\u001b[0;34m.\u001b[0m\u001b[0mlabels_\u001b[0m\u001b[0;34m.\u001b[0m\u001b[0mastype\u001b[0m\u001b[0;34m(\u001b[0m\u001b[0mfloat\u001b[0m\u001b[0;34m)\u001b[0m\u001b[0;34m,\u001b[0m\u001b[0ms\u001b[0m\u001b[0;34m=\u001b[0m\u001b[0;36m10\u001b[0m\u001b[0;34m,\u001b[0m\u001b[0mcmap\u001b[0m\u001b[0;34m=\u001b[0m\u001b[0;34m'tab20b'\u001b[0m\u001b[0;34m,\u001b[0m\u001b[0mmarker\u001b[0m\u001b[0;34m=\u001b[0m\u001b[0;34m'x'\u001b[0m\u001b[0;34m)\u001b[0m\u001b[0;34m\u001b[0m\u001b[0;34m\u001b[0m\u001b[0m\n\u001b[0m\u001b[1;32m     67\u001b[0m \u001b[0mplt\u001b[0m\u001b[0;34m.\u001b[0m\u001b[0mtitle\u001b[0m\u001b[0;34m(\u001b[0m\u001b[0;34m'Customer Spend Local vs Organic - Weighted K-Means'\u001b[0m\u001b[0;34m,\u001b[0m\u001b[0mfontsize\u001b[0m\u001b[0;34m=\u001b[0m\u001b[0;36m18\u001b[0m\u001b[0;34m,\u001b[0m \u001b[0mfontweight\u001b[0m\u001b[0;34m=\u001b[0m\u001b[0;34m'bold'\u001b[0m\u001b[0;34m)\u001b[0m\u001b[0;34m\u001b[0m\u001b[0;34m\u001b[0m\u001b[0m\n\u001b[1;32m     68\u001b[0m \u001b[0mplt\u001b[0m\u001b[0;34m.\u001b[0m\u001b[0mxlabel\u001b[0m\u001b[0;34m(\u001b[0m\u001b[0;34m'Pct_Spend_in_Local'\u001b[0m\u001b[0;34m,\u001b[0m\u001b[0mfontsize\u001b[0m\u001b[0;34m=\u001b[0m\u001b[0;36m15\u001b[0m\u001b[0;34m)\u001b[0m\u001b[0;34m\u001b[0m\u001b[0;34m\u001b[0m\u001b[0m\n",
      "\u001b[0;31mNameError\u001b[0m: name 'wt_kmeansclus' is not defined"
     ]
    },
    {
     "data": {
      "text/plain": [
       "<Figure size 1500x1000 with 0 Axes>"
      ]
     },
     "metadata": {},
     "output_type": "display_data"
    }
   ],
   "source": [
    "\n",
    "with open('input-data.csv') as inputfile:\n",
    "    reader = csv.reader(inputfile)\n",
    "    inputm = list(reader)\n",
    "        \n",
    "\n",
    "user_input = inputm[1][2:]\n",
    "\n",
    "\n",
    "from scipy.spatial import distance\n",
    "\n",
    "\n",
    "print(weight)\n",
    "\n",
    "prediction = kmeans.predict([np.asarray(user_input)], weight)\n",
    "\n",
    "print(\"Prediction is: \")\n",
    "\n",
    "if(prediction == faraz_index):\n",
    "    print(\"Faraz\")\n",
    "elif(prediction == semir_index):\n",
    "    print(\"Semir\")\n",
    "elif(prediction == rena_index):\n",
    "    print(\"Rena\")\n",
    "elif(prediction == clara_index):\n",
    "    print(\"Clara\")\n",
    "elif(prediction == talal_index):\n",
    "    print(\"Talal\")\n",
    "    \n",
    "\n",
    "print()\n",
    "\n",
    "\n",
    "def distance(list1, list2):\n",
    "    \"\"\"Distance between two vectors.\"\"\"\n",
    "    squares = [(int(p)-int(q)) ** 2 for p, q in zip(list1, list2)]\n",
    "    return sum(squares) ** .5\n",
    "\n",
    "\n",
    "d1 = distance(user_input, faraz)\n",
    "d2 = distance(user_input, rena)\n",
    "d3 = distance(user_input, talal)\n",
    "d4 = distance(user_input, semir)\n",
    "d5 = distance(user_input, clara)\n",
    "\n",
    "\n",
    "print(\"Distance to Faraz: \" )\n",
    "print(d1)\n",
    "print()\n",
    "print(\"Distance to Rena: \" )\n",
    "print(d2)\n",
    "print()\n",
    "print(\"Distance to Talal: \" )\n",
    "print(d3)\n",
    "print()\n",
    "print(\"Distance to Semir: \")\n",
    "print(d4)\n",
    "print()\n",
    "print(\"Distance to Clara: \")\n",
    "print(d5)\n",
    "print()\n",
    "\n",
    "\n",
    "\n",
    "\n"
   ]
  },
  {
   "cell_type": "code",
   "execution_count": null,
   "metadata": {},
   "outputs": [],
   "source": []
  },
  {
   "cell_type": "code",
   "execution_count": null,
   "metadata": {},
   "outputs": [],
   "source": []
  }
 ],
 "metadata": {
  "kernelspec": {
   "display_name": "Python 3",
   "language": "python",
   "name": "python3"
  },
  "language_info": {
   "codemirror_mode": {
    "name": "ipython",
    "version": 3
   },
   "file_extension": ".py",
   "mimetype": "text/x-python",
   "name": "python",
   "nbconvert_exporter": "python",
   "pygments_lexer": "ipython3",
   "version": "3.7.4"
  }
 },
 "nbformat": 4,
 "nbformat_minor": 2
}
