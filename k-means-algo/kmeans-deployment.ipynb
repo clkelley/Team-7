{
 "cells": [
  {
   "cell_type": "code",
   "execution_count": 2,
   "metadata": {},
   "outputs": [],
   "source": [
    "#data is expected to be of the following form:\n",
    "#each user's answers are a column vector in the general matrix data\n",
    "#the first row is every user's answer to the first question...\n",
    "def kmeans(event_id):\n",
    "    \n",
    "    import numpy as np\n",
    "    import pandas as pd\n",
    "    import hashlib\n",
    "    import csv\n",
    "    from sklearn.cluster import KMeans\n",
    "\n",
    "    #clustesr of 2 and 3\n",
    "    clusters = int(len(data[0]) / 3)\n",
    "    \n",
    "    #get the list of users and their data\n",
    "    \n",
    "    #Psuedo\n",
    "    #event = get_event(event_id)\n",
    "    #users[] = event.getUsers()\n",
    "    #matrix = survey of every user\n",
    "    \n",
    "\n",
    "\n",
    "    weight =[0,.5,1,-1,-1,-1,-1,1,1,-1,-1,1,.5,1,1,1,1,.5,1,1,1,1,1,1,1,1,1,-.5,-.5,-.5,-.5]\n",
    "    weight = np.asarray([weight])\n",
    "\n",
    "    kmeans = KMeans(clusters) \n",
    "    kmeans.fit(matrix, weight) \n"
   ]
  },
  {
   "cell_type": "code",
   "execution_count": null,
   "metadata": {},
   "outputs": [],
   "source": []
  }
 ],
 "metadata": {
  "kernelspec": {
   "display_name": "Python 3",
   "language": "python",
   "name": "python3"
  },
  "language_info": {
   "codemirror_mode": {
    "name": "ipython",
    "version": 3
   },
   "file_extension": ".py",
   "mimetype": "text/x-python",
   "name": "python",
   "nbconvert_exporter": "python",
   "pygments_lexer": "ipython3",
   "version": "3.7.4"
  }
 },
 "nbformat": 4,
 "nbformat_minor": 2
}
